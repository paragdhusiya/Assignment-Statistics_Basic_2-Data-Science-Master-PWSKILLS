{
 "cells": [
  {
   "cell_type": "markdown",
   "metadata": {},
   "source": [
    "Q1. What are the three measures of central tendency?"
   ]
  },
  {
   "cell_type": "code",
   "execution_count": 2,
   "metadata": {},
   "outputs": [
    {
     "name": "stdout",
     "output_type": "stream",
     "text": [
      "Measures of Central Tendency:\n",
      "Mean: 51.420380447864325\n",
      "Median: 49.356549075852385\n",
      "Mode: 26.796106757788507\n"
     ]
    }
   ],
   "source": [
    "# Import necessary libraries\n",
    "import numpy as np\n",
    "from scipy import stats\n",
    "\n",
    "# Create a sample dataset\n",
    "data = np.random.normal(50, 10, 100)  # Random data with mean 50 and standard deviation 10\n",
    "\n",
    "# Measure of Central Tendency: Mean\n",
    "mean_value = np.mean(data)\n",
    "\n",
    "# Measure of Central Tendency: Median\n",
    "median_value = np.median(data)\n",
    "\n",
    "# Measure of Central Tendency: Mode\n",
    "mode_result = stats.mode(data)\n",
    "mode_values = mode_result.mode  # Extracting all modes from the result\n",
    "\n",
    "# Displaying the calculated values\n",
    "print(\"Measures of Central Tendency:\")\n",
    "print(f\"Mean: {mean_value}\")\n",
    "print(f\"Median: {median_value}\")\n",
    "print(f\"Mode: {mode_values}\")\n"
   ]
  },
  {
   "cell_type": "markdown",
   "metadata": {},
   "source": [
    "Q2. What is the difference between the mean, median, and mode? How are they used to measure the \n",
    "central tendency of a dataset?"
   ]
  },
  {
   "cell_type": "code",
   "execution_count": 3,
   "metadata": {},
   "outputs": [
    {
     "name": "stdout",
     "output_type": "stream",
     "text": [
      "Measures of Central Tendency:\n",
      "Mean: 50.44382736105282\n",
      "Median: 50.016956687369884\n",
      "Mode: 22.622569685775513\n"
     ]
    }
   ],
   "source": [
    "# Import necessary libraries\n",
    "import numpy as np\n",
    "from scipy import stats\n",
    "\n",
    "# Create a sample dataset\n",
    "data = np.random.normal(50, 10, 100)  # Random data with mean 50 and standard deviation 10\n",
    "\n",
    "# Measure of Central Tendency: Mean\n",
    "mean_value = np.mean(data)\n",
    "\n",
    "# Measure of Central Tendency: Median\n",
    "median_value = np.median(data)\n",
    "\n",
    "# Measure of Central Tendency: Mode\n",
    "mode_result = stats.mode(data)\n",
    "mode_values = mode_result.mode  # Extracting all modes from the result\n",
    "\n",
    "# Displaying the calculated values\n",
    "print(\"Measures of Central Tendency:\")\n",
    "print(f\"Mean: {mean_value}\")\n",
    "print(f\"Median: {median_value}\")\n",
    "print(f\"Mode: {mode_values}\")\n"
   ]
  },
  {
   "cell_type": "markdown",
   "metadata": {},
   "source": [
    "Q3. Measure the three measures of central tendency for the given height data:\n",
    "\n",
    " [178,177,176,177,178.2,178,175,179,180,175,178.9,176.2,177,172.5,178,176.5]"
   ]
  },
  {
   "cell_type": "code",
   "execution_count": 5,
   "metadata": {},
   "outputs": [
    {
     "name": "stdout",
     "output_type": "stream",
     "text": [
      "Measures of Central Tendency for Height Data:\n",
      "Mean: 177.01875\n",
      "Median: 177.0\n",
      "Mode: 177.0\n"
     ]
    }
   ],
   "source": [
    "# Import necessary libraries\n",
    "import numpy as np\n",
    "from scipy import stats\n",
    "\n",
    "# Given height data\n",
    "height_data = [178, 177, 176, 177, 178.2, 178, 175, 179, 180, 175, 178.9, 176.2, 177, 172.5, 178, 176.5]\n",
    "\n",
    "# Measure of Central Tendency: Mean\n",
    "mean_height = np.mean(height_data)\n",
    "\n",
    "# Measure of Central Tendency: Median\n",
    "median_height = np.median(height_data)\n",
    "\n",
    "# Measure of Central Tendency: Mode\n",
    "mode_result = stats.mode(height_data)\n",
    "mode_values = mode_result.mode  # Extracting all modes from the result\n",
    "\n",
    "# Displaying the calculated values\n",
    "print(\"Measures of Central Tendency for Height Data:\")\n",
    "print(f\"Mean: {mean_height}\")\n",
    "print(f\"Median: {median_height}\")\n",
    "print(f\"Mode: {mode_values}\")\n"
   ]
  },
  {
   "cell_type": "markdown",
   "metadata": {},
   "source": [
    "Q4. Find the standard deviation for the given data:\n",
    "\n",
    "[178,177,176,177,178.2,178,175,179,180,175,178.9,176.2,177,172.5,178,176.5]"
   ]
  },
  {
   "cell_type": "code",
   "execution_count": 6,
   "metadata": {},
   "outputs": [
    {
     "name": "stdout",
     "output_type": "stream",
     "text": [
      "Standard Deviation for Height Data: 1.7885814036548633\n"
     ]
    }
   ],
   "source": [
    "# Import necessary libraries\n",
    "import numpy as np\n",
    "\n",
    "# Given data\n",
    "height_data = [178, 177, 176, 177, 178.2, 178, 175, 179, 180, 175, 178.9, 176.2, 177, 172.5, 178, 176.5]\n",
    "\n",
    "# Calculate standard deviation\n",
    "std_deviation_height = np.std(height_data)\n",
    "\n",
    "# Displaying the calculated standard deviation\n",
    "print(f\"Standard Deviation for Height Data: {std_deviation_height}\")\n"
   ]
  },
  {
   "cell_type": "markdown",
   "metadata": {},
   "source": [
    "Q5. How are measures of dispersion such as range, variance, and standard deviation used to describe \n",
    "the spread of a dataset? Provide an example."
   ]
  },
  {
   "cell_type": "code",
   "execution_count": 7,
   "metadata": {},
   "outputs": [
    {
     "name": "stdout",
     "output_type": "stream",
     "text": [
      "Measures of Dispersion for Class 1:\n",
      "Range: 7\n",
      "Variance: 4.4399999999999995\n",
      "Standard Deviation: 2.1071307505705477\n",
      "\n",
      "Measures of Dispersion for Class 2:\n",
      "Range: 17\n",
      "Variance: 26.290000000000003\n",
      "Standard Deviation: 5.127377497317708\n"
     ]
    }
   ],
   "source": [
    "import numpy as np\n",
    "\n",
    "# Exam scores for two classes\n",
    "class1_scores = [85, 88, 90, 92, 89, 87, 91, 86, 88, 90]\n",
    "class2_scores = [70, 65, 75, 80, 72, 78, 68, 74, 82, 77]\n",
    "\n",
    "# Measures of Dispersion\n",
    "range_class1 = np.ptp(class1_scores)\n",
    "range_class2 = np.ptp(class2_scores)\n",
    "\n",
    "variance_class1 = np.var(class1_scores)\n",
    "variance_class2 = np.var(class2_scores)\n",
    "\n",
    "std_deviation_class1 = np.std(class1_scores)\n",
    "std_deviation_class2 = np.std(class2_scores)\n",
    "\n",
    "# Displaying the calculated measures of dispersion\n",
    "print(\"Measures of Dispersion for Class 1:\")\n",
    "print(f\"Range: {range_class1}\")\n",
    "print(f\"Variance: {variance_class1}\")\n",
    "print(f\"Standard Deviation: {std_deviation_class1}\\n\")\n",
    "\n",
    "print(\"Measures of Dispersion for Class 2:\")\n",
    "print(f\"Range: {range_class2}\")\n",
    "print(f\"Variance: {variance_class2}\")\n",
    "print(f\"Standard Deviation: {std_deviation_class2}\")\n"
   ]
  },
  {
   "cell_type": "markdown",
   "metadata": {},
   "source": [
    "Q6. What is a Venn diagram?"
   ]
  },
  {
   "cell_type": "code",
   "execution_count": 9,
   "metadata": {},
   "outputs": [
    {
     "data": {
      "image/png": "[encoded data removed]",
      "text/plain": [
       "<Figure size 640x480 with 1 Axes>"
      ]
     },
     "metadata": {},
     "output_type": "display_data"
    }
   ],
   "source": [
    "# Import necessary libraries\n",
    "import matplotlib.pyplot as plt\n",
    "from matplotlib_venn import venn2\n",
    "\n",
    "# Data for two sets\n",
    "set1 = {1, 2, 3, 4, 5}\n",
    "set2 = {3, 4, 5, 6, 7}\n",
    "\n",
    "# Create a Venn diagram\n",
    "venn_labels = {'100': len(set1 - set2), '010': len(set2 - set1), '110': len(set1 & set2)}\n",
    "venn2(subsets=(len(set1 - set2), len(set2 - set1), len(set1 & set2)), set_labels=('Set 1', 'Set 2'))\n",
    "\n",
    "# Display the Venn diagram with labels\n",
    "plt.title(\"Venn Diagram of Two Sets\")\n",
    "plt.show()\n"
   ]
  },
  {
   "cell_type": "markdown",
   "metadata": {},
   "source": [
    "Q7. For the two given sets A = (2,3,4,5,6,7) & B = (0,2,6,8,10). Find:\n",
    "\n",
    "(i) \tA B\n",
    "\n",
    "(ii)\tA ⋃ B"
   ]
  },
  {
   "cell_type": "code",
   "execution_count": 10,
   "metadata": {},
   "outputs": [
    {
     "name": "stdout",
     "output_type": "stream",
     "text": [
      "(i) A ∩ B (Intersection): {2, 6}\n",
      "(ii) A ∪ B (Union): {0, 2, 3, 4, 5, 6, 7, 8, 10}\n"
     ]
    }
   ],
   "source": [
    "# Given sets\n",
    "set_A = {2, 3, 4, 5, 6, 7}\n",
    "set_B = {0, 2, 6, 8, 10}\n",
    "\n",
    "# (i) Intersection of A and B (A ∩ B)\n",
    "intersection_result = set_A.intersection(set_B)\n",
    "\n",
    "# (ii) Union of A and B (A ∪ B)\n",
    "union_result = set_A.union(set_B)\n",
    "\n",
    "# Displaying the results\n",
    "print(f\"(i) A ∩ B (Intersection): {intersection_result}\")\n",
    "print(f\"(ii) A ∪ B (Union): {union_result}\")\n"
   ]
  },
  {
   "cell_type": "markdown",
   "metadata": {},
   "source": [
    "Q8. What do you understand about skewness in data?"
   ]
  },
  {
   "cell_type": "code",
   "execution_count": 11,
   "metadata": {},
   "outputs": [
    {
     "name": "stdout",
     "output_type": "stream",
     "text": [
      "Skewness (calculated): 0.0\n",
      "Skewness (scipy.stats): 0.0\n"
     ]
    }
   ],
   "source": [
    "# Import necessary libraries\n",
    "import numpy as np\n",
    "from scipy.stats import skew\n",
    "\n",
    "# Given dataset\n",
    "data = [2, 3, 4, 5, 6, 7, 8, 9, 10, 11]\n",
    "\n",
    "# Calculate skewness using the formula\n",
    "n = len(data)\n",
    "mean_data = np.mean(data)\n",
    "std_dev_data = np.std(data)\n",
    "\n",
    "skewness = (n / ((n - 1) * (n - 2))) * np.sum(((data - mean_data) / std_dev_data) ** 3)\n",
    "\n",
    "# Calculate skewness using scipy.stats skew function\n",
    "skewness_scipy = skew(data)\n",
    "\n",
    "# Displaying the calculated skewness\n",
    "print(f\"Skewness (calculated): {skewness}\")\n",
    "print(f\"Skewness (scipy.stats): {skewness_scipy}\")\n"
   ]
  },
  {
   "cell_type": "markdown",
   "metadata": {},
   "source": [
    "Q9. If a data is right skewed then what will be the position of median with respect to mean?"
   ]
  },
  {
   "cell_type": "code",
   "execution_count": 12,
   "metadata": {},
   "outputs": [
    {
     "data": {
      "image/png": "[encoded data removed]",
      "text/plain": [
       "<Figure size 640x480 with 1 Axes>"
      ]
     },
     "metadata": {},
     "output_type": "display_data"
    },
    {
     "name": "stdout",
     "output_type": "stream",
     "text": [
      "Mean: 1.967420158856501\n",
      "Median: 1.377389680641334\n"
     ]
    }
   ],
   "source": [
    "# Import necessary libraries\n",
    "import numpy as np\n",
    "import matplotlib.pyplot as plt\n",
    "\n",
    "# Generate a right-skewed distribution\n",
    "data_right_skewed = np.random.exponential(scale=2, size=1000)\n",
    "\n",
    "# Calculate mean and median\n",
    "mean_value = np.mean(data_right_skewed)\n",
    "median_value = np.median(data_right_skewed)\n",
    "\n",
    "# Plot the distribution\n",
    "plt.hist(data_right_skewed, bins=30, alpha=0.7, color='blue', label='Right-skewed Distribution')\n",
    "\n",
    "# Add vertical lines for mean and median\n",
    "plt.axvline(x=mean_value, color='red', linestyle='dashed', linewidth=2, label='Mean')\n",
    "plt.axvline(x=median_value, color='green', linestyle='dashed', linewidth=2, label='Median')\n",
    "\n",
    "# Set labels and legend\n",
    "plt.xlabel('Values')\n",
    "plt.ylabel('Frequency')\n",
    "plt.legend()\n",
    "\n",
    "# Display the plot\n",
    "plt.title('Right-skewed Distribution with Mean and Median')\n",
    "plt.show()\n",
    "\n",
    "# Displaying the calculated mean and median\n",
    "print(f\"Mean: {mean_value}\")\n",
    "print(f\"Median: {median_value}\")\n"
   ]
  },
  {
   "cell_type": "markdown",
   "metadata": {},
   "source": [
    "Q10. Explain the difference between covariance and correlation. How are these measures used in \n",
    "statistical analysis?"
   ]
  },
  {
   "cell_type": "code",
   "execution_count": 13,
   "metadata": {},
   "outputs": [
    {
     "name": "stdout",
     "output_type": "stream",
     "text": [
      "Covariance (X, Y): 0.1729309085866557\n",
      "Correlation (X, Y): 0.9881582860812733\n"
     ]
    }
   ],
   "source": [
    "# Import necessary libraries\n",
    "import numpy as np\n",
    "\n",
    "# Generate random data for two variables\n",
    "np.random.seed(42)  # Setting seed for reproducibility\n",
    "X = np.random.rand(100)\n",
    "Y = 2 * X + 1 + 0.1 * np.random.randn(100)  # Linear relationship with some noise\n",
    "\n",
    "# Calculate covariance\n",
    "covariance_matrix = np.cov(X, Y)\n",
    "covariance_xy = covariance_matrix[0, 1]\n",
    "\n",
    "# Calculate correlation coefficient\n",
    "correlation_coefficient = np.corrcoef(X, Y)[0, 1]\n",
    "\n",
    "# Displaying the calculated covariance and correlation\n",
    "print(f\"Covariance (X, Y): {covariance_xy}\")\n",
    "print(f\"Correlation (X, Y): {correlation_coefficient}\")\n"
   ]
  },
  {
   "cell_type": "markdown",
   "metadata": {},
   "source": [
    "Q11. What is the formula for calculating the sample mean? Provide an example calculation for a \n",
    "dataset."
   ]
  },
  {
   "cell_type": "code",
   "execution_count": 14,
   "metadata": {},
   "outputs": [
    {
     "name": "stdout",
     "output_type": "stream",
     "text": [
      "Sample Mean: 15.0\n"
     ]
    }
   ],
   "source": [
    "# Import necessary libraries\n",
    "import numpy as np\n",
    "\n",
    "# Given dataset\n",
    "dataset = [10, 15, 12, 18, 20]\n",
    "\n",
    "# Calculate the sample mean\n",
    "sample_mean = np.mean(dataset)\n",
    "\n",
    "# Displaying the calculated sample mean\n",
    "print(f\"Sample Mean: {sample_mean}\")\n"
   ]
  },
  {
   "cell_type": "markdown",
   "metadata": {},
   "source": [
    "Q12. For a normal distribution data what is the relationship between its measure of central tendency?"
   ]
  },
  {
   "cell_type": "code",
   "execution_count": 15,
   "metadata": {},
   "outputs": [
    {
     "data": {
      "image/png": "[encoded data removed]",
      "text/plain": [
       "<Figure size 640x480 with 1 Axes>"
      ]
     },
     "metadata": {},
     "output_type": "display_data"
    },
    {
     "name": "stdout",
     "output_type": "stream",
     "text": [
      "Mean: 0.01933205582232549\n",
      "Median: 0.025300612234888248\n",
      "Mode: 0\n"
     ]
    }
   ],
   "source": [
    "# Import necessary libraries\n",
    "import numpy as np\n",
    "import matplotlib.pyplot as plt\n",
    "from scipy.stats import norm\n",
    "\n",
    "# Generate random data from a normal distribution\n",
    "np.random.seed(42)\n",
    "data_normal = np.random.normal(loc=0, scale=1, size=1000)\n",
    "\n",
    "# Calculate mean, median, and mode\n",
    "mean_value = np.mean(data_normal)\n",
    "median_value = np.median(data_normal)\n",
    "mode_result = norm.pdf(np.median(data_normal), loc=mean_value, scale=np.std(data_normal))\n",
    "mode_value = np.argmax(mode_result)\n",
    "\n",
    "# Plot the normal distribution\n",
    "plt.hist(data_normal, bins=30, density=True, alpha=0.7, color='blue', label='Normal Distribution')\n",
    "\n",
    "# Add vertical lines for mean, median, and mode\n",
    "plt.axvline(x=mean_value, color='red', linestyle='dashed', linewidth=2, label='Mean')\n",
    "plt.axvline(x=median_value, color='green', linestyle='dashed', linewidth=2, label='Median')\n",
    "plt.axvline(x=mode_value, color='purple', linestyle='dashed', linewidth=2, label='Mode')\n",
    "\n",
    "# Set labels and legend\n",
    "plt.xlabel('Values')\n",
    "plt.ylabel('Density')\n",
    "plt.legend()\n",
    "\n",
    "# Display the plot\n",
    "plt.title('Normal Distribution with Mean, Median, and Mode')\n",
    "plt.show()\n",
    "\n",
    "# Displaying the calculated mean, median, and mode\n",
    "print(f\"Mean: {mean_value}\")\n",
    "print(f\"Median: {median_value}\")\n",
    "print(f\"Mode: {mode_value}\")\n"
   ]
  },
  {
   "cell_type": "markdown",
   "metadata": {},
   "source": [
    "Q13. How is covariance different from correlation?"
   ]
  },
  {
   "cell_type": "code",
   "execution_count": 16,
   "metadata": {},
   "outputs": [
    {
     "name": "stdout",
     "output_type": "stream",
     "text": [
      "Covariance (X, Y): 0.1729309085866557\n",
      "Correlation (X, Y): 0.9881582860812733\n"
     ]
    },
    {
     "data": {
      "image/png": "[encoded data removed]",
      "text/plain": [
       "<Figure size 640x480 with 1 Axes>"
      ]
     },
     "metadata": {},
     "output_type": "display_data"
    }
   ],
   "source": [
    "# Import necessary libraries\n",
    "import numpy as np\n",
    "import matplotlib.pyplot as plt\n",
    "\n",
    "# Generate random data for two variables\n",
    "np.random.seed(42)  # Setting seed for reproducibility\n",
    "X = np.random.rand(100)\n",
    "Y = 2 * X + 1 + 0.1 * np.random.randn(100)  # Linear relationship with some noise\n",
    "\n",
    "# Calculate covariance\n",
    "covariance_matrix = np.cov(X, Y)\n",
    "covariance_xy = covariance_matrix[0, 1]\n",
    "\n",
    "# Calculate correlation coefficient\n",
    "correlation_coefficient = np.corrcoef(X, Y)[0, 1]\n",
    "\n",
    "# Displaying the calculated covariance and correlation\n",
    "print(f\"Covariance (X, Y): {covariance_xy}\")\n",
    "print(f\"Correlation (X, Y): {correlation_coefficient}\")\n",
    "\n",
    "# Plot the scatter plot\n",
    "plt.scatter(X, Y, label='Data Points')\n",
    "plt.xlabel('X')\n",
    "plt.ylabel('Y')\n",
    "plt.title('Scatter Plot of X and Y')\n",
    "plt.legend()\n",
    "plt.show()\n"
   ]
  },
  {
   "cell_type": "markdown",
   "metadata": {},
   "source": [
    "Q14. How do outliers affect measures of central tendency and dispersion? Provide an example."
   ]
  },
  {
   "cell_type": "code",
   "execution_count": 17,
   "metadata": {},
   "outputs": [
    {
     "name": "stdout",
     "output_type": "stream",
     "text": [
      "Mean with Outlier: 30.2\n",
      "Median with Outlier: 14.0\n",
      "Range with Outlier: 90\n",
      "Standard Deviation with Outlier: 34.94223805081752\n"
     ]
    }
   ],
   "source": [
    "# Import necessary libraries\n",
    "import numpy as np\n",
    "\n",
    "# Dataset with an outlier\n",
    "data_with_outlier = np.array([10, 12, 14, 15, 100])\n",
    "\n",
    "# Measures of Central Tendency\n",
    "mean_with_outlier = np.mean(data_with_outlier)\n",
    "median_with_outlier = np.median(data_with_outlier)\n",
    "\n",
    "# Measures of Dispersion\n",
    "range_with_outlier = np.ptp(data_with_outlier)\n",
    "std_dev_with_outlier = np.std(data_with_outlier)\n",
    "\n",
    "# Displaying the results\n",
    "print(f\"Mean with Outlier: {mean_with_outlier}\")\n",
    "print(f\"Median with Outlier: {median_with_outlier}\")\n",
    "print(f\"Range with Outlier: {range_with_outlier}\")\n",
    "print(f\"Standard Deviation with Outlier: {std_dev_with_outlier}\")\n"
   ]
  }
 ],
 "metadata": {
  "kernelspec": {
   "display_name": "Python 3",
   "language": "python",
   "name": "python3"
  },
  "language_info": {
   "codemirror_mode": {
    "name": "ipython",
    "version": 3
   },
   "file_extension": ".py",
   "mimetype": "text/x-python",
   "name": "python",
   "nbconvert_exporter": "python",
   "pygments_lexer": "ipython3",
   "version": "3.11.3"
  }
 },
 "nbformat": 4,
 "nbformat_minor": 2
}
